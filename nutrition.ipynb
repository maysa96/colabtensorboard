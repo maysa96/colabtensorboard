{
  "nbformat": 4,
  "nbformat_minor": 0,
  "metadata": {
    "colab": {
      "name": "Welcome To Colaboratory",
      "provenance": [],
      "collapsed_sections": [],
      "include_colab_link": true
    },
    "kernelspec": {
      "display_name": "Python 3",
      "name": "python3"
    }
  },
  "cells": [
    {
      "cell_type": "markdown",
      "metadata": {
        "id": "view-in-github",
        "colab_type": "text"
      },
      "source": [
        "<a href=\"https://colab.research.google.com/github/maysa96/colabtensorboard/blob/master/nutrition.ipynb\" target=\"_parent\"><img src=\"https://colab.research.google.com/assets/colab-badge.svg\" alt=\"Open In Colab\"/></a>"
      ]
    },
    {
      "cell_type": "markdown",
      "metadata": {
        "id": "5fCEDCU_qrC0"
      },
      "source": [
        "<p><img alt=\"Colaboratory logo\" height=\"45px\" src=\"/img/colab_favicon.ico\" align=\"left\" hspace=\"10px\" vspace=\"0px\"></p>\n",
        "\n",
        "<h1>What is Colaboratory?</h1>\n",
        "\n",
        "Colaboratory, or \"Colab\" for short, allows you to write and execute Python in your browser, with \n",
        "- Zero configuration required\n",
        "- Free access to GPUs\n",
        "- Easy sharing\n",
        "\n",
        "Whether you're a **student**, a **data scientist** or an **AI researcher**, Colab can make your work easier. Watch [Introduction to Colab](https://www.youtube.com/watch?v=inN8seMm7UI) to learn more, or just get started below!"
      ]
    },
    {
      "cell_type": "markdown",
      "metadata": {
        "id": "GJBs_flRovLc"
      },
      "source": [
        "## **Getting started**\n",
        "\n",
        "The document you are reading is not a static web page, but an interactive environment called a **Colab notebook** that lets you write and execute code.\n",
        "\n",
        "For example, here is a **code cell** with a short Python script that computes a value, stores it in a variable, and prints the result:"
      ]
    },
    {
      "cell_type": "code",
      "metadata": {
        "colab": {
          "base_uri": "https://localhost:8080/",
          "height": 34
        },
        "id": "gJr_9dXGpJ05",
        "outputId": "9f556d03-ec67-4950-a485-cfdba9ddd14d"
      },
      "source": [
        "seconds_in_a_day = 24 * 60 * 60\n",
        "seconds_in_a_day"
      ],
      "execution_count": null,
      "outputs": [
        {
          "output_type": "execute_result",
          "data": {
            "text/plain": [
              "86400"
            ]
          },
          "metadata": {
            "tags": []
          },
          "execution_count": 0
        }
      ]
    },
    {
      "cell_type": "markdown",
      "metadata": {
        "id": "2fhs6GZ4qFMx"
      },
      "source": [
        "To execute the code in the above cell, select it with a click and then either press the play button to the left of the code, or use the keyboard shortcut \"Command/Ctrl+Enter\". To edit the code, just click the cell and start editing.\n",
        "\n",
        "Variables that you define in one cell can later be used in other cells:"
      ]
    },
    {
      "cell_type": "code",
      "metadata": {
        "colab": {
          "base_uri": "https://localhost:8080/",
          "height": 34
        },
        "id": "-gE-Ez1qtyIA",
        "outputId": "94cb2224-0edf-457b-90b5-0ac3488d8a97"
      },
      "source": [
        "seconds_in_a_week = 7 * seconds_in_a_day\n",
        "seconds_in_a_week"
      ],
      "execution_count": null,
      "outputs": [
        {
          "output_type": "execute_result",
          "data": {
            "text/plain": [
              "604800"
            ]
          },
          "metadata": {
            "tags": []
          },
          "execution_count": 0
        }
      ]
    },
    {
      "cell_type": "markdown",
      "metadata": {
        "id": "lSrWNr3MuFUS"
      },
      "source": [
        "Colab notebooks allow you to combine **executable code** and **rich text** in a single document, along with **images**, **HTML**, **LaTeX** and more. When you create your own Colab notebooks, they are stored in your Google Drive account. You can easily share your Colab notebooks with co-workers or friends, allowing them to comment on your notebooks or even edit them. To learn more, see [Overview of Colab](/notebooks/basic_features_overview.ipynb). To create a new Colab notebook you can use the File menu above, or use the following link: [create a new Colab notebook](http://colab.research.google.com#create=true).\n",
        "\n",
        "Colab notebooks are Jupyter notebooks that are hosted by Colab. To learn more about the Jupyter project, see [jupyter.org](https://www.jupyter.org)."
      ]
    },
    {
      "cell_type": "markdown",
      "metadata": {
        "id": "UdRyKR44dcNI"
      },
      "source": [
        "## Data science\n",
        "\n",
        "With Colab you can harness the full power of popular Python libraries to analyze and visualize data. The code cell below uses **numpy** to generate some random data, and uses **matplotlib** to visualize it. To edit the code, just click the cell and start editing."
      ]
    },
    {
      "cell_type": "code",
      "metadata": {
        "colab": {
          "base_uri": "https://localhost:8080/",
          "height": 281
        },
        "id": "C4HZx7Gndbrh",
        "outputId": "46abc637-6abd-41b2-9bba-80a7ae992e06"
      },
      "source": [
        "import numpy as np\n",
        "from matplotlib import pyplot as plt\n",
        "\n",
        "ys = 200 + np.random.randn(100)\n",
        "x = [x for x in range(len(ys))]\n",
        "\n",
        "plt.plot(x, ys, '-')\n",
        "plt.fill_between(x, ys, 195, where=(ys > 195), facecolor='g', alpha=0.6)\n",
        "\n",
        "plt.title(\"Sample Visualization\")\n",
        "plt.show()"
      ],
      "execution_count": null,
      "outputs": [
        {
          "output_type": "display_data",
          "data": {
            "image/png": "[encoded data removed]",
            "text/plain": [
              "<Figure size 432x288 with 1 Axes>"
            ]
          },
          "metadata": {
            "tags": []
          }
        }
      ]
    },
    {
      "cell_type": "markdown",
      "metadata": {
        "id": "4_kCnsPUqS6o"
      },
      "source": [
        "You can import your own data into Colab notebooks from your Google Drive account, including from spreadsheets, as well as from Github and many other sources. To learn more about importing data, and how Colab can be used for data science, see the links below under [Working with Data](#working-with-data)."
      ]
    },
    {
      "cell_type": "markdown",
      "metadata": {
        "id": "OwuxHmxllTwN"
      },
      "source": [
        "## Machine learning\n",
        "\n",
        "With Colab you can import an image dataset, train an image classifier on it, and evaluate the model, all in just [a few lines of code](https://colab.research.google.com/github/tensorflow/docs/blob/master/site/en/tutorials/quickstart/beginner.ipynb). Colab notebooks execute code on Google's cloud servers, meaning you can leverage the power of Google hardware, including [GPUs and TPUs](#using-accelerated-hardware), regardless of the power of your machine. All you need is a browser."
      ]
    },
    {
      "cell_type": "markdown",
      "metadata": {
        "id": "ufxBm1yRnruN"
      },
      "source": [
        "Colab is used extensively in the machine learning community with applications including:\n",
        "- Getting started with TensorFlow\n",
        "- Developing and training neural networks\n",
        "- Experimenting with TPUs\n",
        "- Disseminating AI research\n",
        "- Creating tutorials\n",
        "\n",
        "To see sample Colab notebooks that demonstrate machine learning applications, see the [machine learning examples](#machine-learning-examples) below."
      ]
    },
    {
      "cell_type": "markdown",
      "metadata": {
        "id": "-Rh3-Vt9Nev9"
      },
      "source": [
        "## More Resources\n",
        "\n",
        "### Working with Notebooks in Colab\n",
        "- [Overview of Colaboratory](/notebooks/basic_features_overview.ipynb)\n",
        "- [Guide to Markdown](/notebooks/markdown_guide.ipynb)\n",
        "- [Importing libraries and installing dependencies](/notebooks/snippets/importing_libraries.ipynb)\n",
        "- [Saving and loading notebooks in GitHub](https://colab.research.google.com/github/googlecolab/colabtools/blob/master/notebooks/colab-github-demo.ipynb)\n",
        "- [Interactive forms](/notebooks/forms.ipynb)\n",
        "- [Interactive widgets](/notebooks/widgets.ipynb)\n",
        "- <img src=\"/img/new.png\" height=\"20px\" align=\"left\" hspace=\"4px\" alt=\"New\"></img>\n",
        " [TensorFlow 2 in Colab](/notebooks/tensorflow_version.ipynb)\n",
        "\n",
        "<a name=\"working-with-data\"></a>\n",
        "### Working with Data\n",
        "- [Loading data: Drive, Sheets, and Google Cloud Storage](/notebooks/io.ipynb) \n",
        "- [Charts: visualizing data](/notebooks/charts.ipynb)\n",
        "- [Getting started with BigQuery](/notebooks/bigquery.ipynb)\n",
        "\n",
        "### Machine Learning Crash Course\n",
        "These are a few of the notebooks from Google's online Machine Learning course. See the [full course website](https://developers.google.com/machine-learning/crash-course/) for more.\n",
        "- [Intro to Pandas](/notebooks/mlcc/intro_to_pandas.ipynb)\n",
        "- [Tensorflow concepts](/notebooks/mlcc/tensorflow_programming_concepts.ipynb)\n",
        "- [First steps with TensorFlow](/notebooks/mlcc/first_steps_with_tensor_flow.ipynb)\n",
        "- [Intro to neural nets](/notebooks/mlcc/intro_to_neural_nets.ipynb)\n",
        "- [Intro to sparse data and embeddings](/notebooks/mlcc/intro_to_sparse_data_and_embeddings.ipynb)\n",
        "\n",
        "<a name=\"using-accelerated-hardware\"></a>\n",
        "### Using Accelerated Hardware\n",
        "- [TensorFlow with GPUs](/notebooks/gpu.ipynb)\n",
        "- [TensorFlow with TPUs](/notebooks/tpu.ipynb)"
      ]
    },
    {
      "cell_type": "markdown",
      "metadata": {
        "id": "P-H6Lw1vyNNd"
      },
      "source": [
        "<a name=\"machine-learning-examples\"></a>\n",
        "\n",
        "## Machine Learning Examples\n",
        "\n",
        "To see end-to-end examples of the interactive machine learning analyses that Colaboratory makes possible, check out these  tutorials using models from [TensorFlow Hub](https://tfhub.dev).\n",
        "\n",
        "A few featured examples:\n",
        "\n",
        "- [Retraining an Image Classifier](https://tensorflow.org/hub/tutorials/tf2_image_retraining): Build a Keras model on top of a pre-trained image classifier to distinguish flowers.\n",
        "- [Text Classification](https://tensorflow.org/hub/tutorials/tf2_text_classification): Classify IMDB movie reviews as either *positive* or *negative*.\n",
        "- [Style Transfer](https://tensorflow.org/hub/tutorials/tf2_arbitrary_image_stylization): Use deep learning to transfer style between images.\n",
        "- [Multilingual Universal Sentence Encoder Q&A](https://tensorflow.org/hub/tutorials/retrieval_with_tf_hub_universal_encoder_qa): Use a machine learning model to answer questions from the SQuAD dataset.\n",
        "- [Video Interpolation](https://tensorflow.org/hub/tutorials/tweening_conv3d): Predict what happened in a video between the first and the last frame.\n"
      ]
    },
    {
      "cell_type": "code",
      "metadata": {
        "colab": {
          "base_uri": "https://localhost:8080/",
          "height": 244
        },
        "id": "Iz6IM078WDGW",
        "outputId": "59bb79e6-8798-4f45-b863-24c1fadb63f2"
      },
      "source": [
        "import pandas\r\n",
        "from sklearn import tree\r\n",
        "import pydotplus\r\n",
        "from sklearn.tree import DecisionTreeClassifier\r\n",
        "import matplotlib.pyplot as plt\r\n",
        "import matplotlib.image as pltimg\r\n",
        "\r\n",
        "df = pandas.read_csv(\"/content/shows.csv\")\r\n",
        "mydf=pandas.read_csv(\"/content/Uniqe_Vals_9_v3.csv\")\r\n",
        "d = {'UK': 0, 'USA': 1, 'N': 2}\r\n",
        "\r\n",
        "df['Nationality'] = df['Nationality'].map(d)\r\n",
        "d = {'YES': 1, 'NO': 0}\r\n",
        "df['Go'] = df['Go'].map(d)\r\n",
        "\r\n",
        "features = ['Age', 'Experience', 'Rank', 'Nationality']\r\n",
        "myFeatures=['Fish','Water','Ginger','Turmeric','BlackPepper','Tea','Coffee','darchin','Artifitial Swittener']\r\n",
        "X = df[features]\r\n",
        "y = df['Go']\r\n",
        "myX=mydf[myFeatures]\r\n",
        "myY=mydf['Covid State']\r\n",
        "dtree = DecisionTreeClassifier()\r\n",
        "mydtree = DecisionTreeClassifier(max_depth=3)\r\n",
        "dtree = dtree.fit(X, y)\r\n",
        "mydtree = mydtree.fit(myX, myY)\r\n",
        "print(mydtree.score)\r\n",
        "data = tree.export_graphviz(dtree, out_file=None, feature_names=features)\r\n",
        "mydata = tree.export_graphviz(mydtree, out_file=None, feature_names=myFeatures)\r\n",
        "graph = pydotplus.graph_from_dot_data(data)\r\n",
        "mygraph = pydotplus.graph_from_dot_data(mydata)\r\n",
        "graph.write_png('mydecisiontree.png')\r\n",
        "mygraph.write_png('mydtree.png')\r\n",
        "\r\n",
        "img=pltimg.imread('mydtree.png')\r\n",
        "imgplot = plt.imshow(img)\r\n",
        "plt.show()\r\n",
        "\r\n"
      ],
      "execution_count": 13,
      "outputs": [
        {
          "output_type": "stream",
          "text": [
            "<bound method ClassifierMixin.score of DecisionTreeClassifier(ccp_alpha=0.0, class_weight=None, criterion='gini',\n",
            "                       max_depth=3, max_features=None, max_leaf_nodes=None,\n",
            "                       min_impurity_decrease=0.0, min_impurity_split=None,\n",
            "                       min_samples_leaf=1, min_samples_split=2,\n",
            "                       min_weight_fraction_leaf=0.0, presort='deprecated',\n",
            "                       random_state=None, splitter='best')>\n"
          ],
          "name": "stdout"
        },
        {
          "output_type": "display_data",
          "data": {
            "image/png": "[encoded data removed]",
            "text/plain": [
              "<Figure size 432x288 with 1 Axes>"
            ]
          },
          "metadata": {
            "tags": [],
            "needs_background": "light"
          }
        }
      ]
    },
    {
      "cell_type": "code",
      "metadata": {
        "colab": {
          "base_uri": "https://localhost:8080/",
          "height": 532
        },
        "id": "OFhtnRA9XHlP",
        "outputId": "6897bf7f-912c-4c87-89d1-5378e6392421"
      },
      "source": [
        "from sklearn.datasets import load_iris\r\n",
        "from sklearn import tree\r\n",
        "X, y = load_iris(return_X_y=True)\r\n",
        "clf = tree.DecisionTreeClassifier()\r\n",
        "clf = clf.fit(X, y)\r\n",
        "tree.plot_tree(clf) \r\n"
      ],
      "execution_count": 2,
      "outputs": [
        {
          "output_type": "execute_result",
          "data": {
            "text/plain": [
              "[Text(167.4, 199.32, 'X[2] <= 2.45\\ngini = 0.667\\nsamples = 150\\nvalue = [50, 50, 50]'),\n",
              " Text(141.64615384615385, 163.07999999999998, 'gini = 0.0\\nsamples = 50\\nvalue = [50, 0, 0]'),\n",
              " Text(193.15384615384616, 163.07999999999998, 'X[3] <= 1.75\\ngini = 0.5\\nsamples = 100\\nvalue = [0, 50, 50]'),\n",
              " Text(103.01538461538462, 126.83999999999999, 'X[2] <= 4.95\\ngini = 0.168\\nsamples = 54\\nvalue = [0, 49, 5]'),\n",
              " Text(51.50769230769231, 90.6, 'X[3] <= 1.65\\ngini = 0.041\\nsamples = 48\\nvalue = [0, 47, 1]'),\n",
              " Text(25.753846153846155, 54.359999999999985, 'gini = 0.0\\nsamples = 47\\nvalue = [0, 47, 0]'),\n",
              " Text(77.26153846153846, 54.359999999999985, 'gini = 0.0\\nsamples = 1\\nvalue = [0, 0, 1]'),\n",
              " Text(154.52307692307693, 90.6, 'X[3] <= 1.55\\ngini = 0.444\\nsamples = 6\\nvalue = [0, 2, 4]'),\n",
              " Text(128.76923076923077, 54.359999999999985, 'gini = 0.0\\nsamples = 3\\nvalue = [0, 0, 3]'),\n",
              " Text(180.27692307692308, 54.359999999999985, 'X[0] <= 6.95\\ngini = 0.444\\nsamples = 3\\nvalue = [0, 2, 1]'),\n",
              " Text(154.52307692307693, 18.119999999999976, 'gini = 0.0\\nsamples = 2\\nvalue = [0, 2, 0]'),\n",
              " Text(206.03076923076924, 18.119999999999976, 'gini = 0.0\\nsamples = 1\\nvalue = [0, 0, 1]'),\n",
              " Text(283.2923076923077, 126.83999999999999, 'X[2] <= 4.85\\ngini = 0.043\\nsamples = 46\\nvalue = [0, 1, 45]'),\n",
              " Text(257.53846153846155, 90.6, 'X[0] <= 5.95\\ngini = 0.444\\nsamples = 3\\nvalue = [0, 1, 2]'),\n",
              " Text(231.7846153846154, 54.359999999999985, 'gini = 0.0\\nsamples = 1\\nvalue = [0, 1, 0]'),\n",
              " Text(283.2923076923077, 54.359999999999985, 'gini = 0.0\\nsamples = 2\\nvalue = [0, 0, 2]'),\n",
              " Text(309.04615384615386, 90.6, 'gini = 0.0\\nsamples = 43\\nvalue = [0, 0, 43]')]"
            ]
          },
          "metadata": {
            "tags": []
          },
          "execution_count": 2
        },
        {
          "output_type": "display_data",
          "data": {
            "image/png": "[encoded data removed]",
            "text/plain": [
              "<Figure size 432x288 with 1 Axes>"
            ]
          },
          "metadata": {
            "tags": [],
            "needs_background": "light"
          }
        }
      ]
    },
    {
      "cell_type": "code",
      "metadata": {
        "colab": {
          "base_uri": "https://localhost:8080/",
          "height": 228
        },
        "id": "TVQiE9V9XfP4",
        "outputId": "3146d1b7-f05e-45d3-c831-8a6ae4d35538"
      },
      "source": [
        "from sklearn.datasets import load_iris\r\n",
        "from sklearn import tree\r\n",
        "import graphviz \r\n",
        "dot_data = tree.export_graphviz(clf, out_file=None) \r\n",
        "graph = graphviz.Source(dot_data) \r\n",
        "graph.render(\"iris\") \r\n",
        "dot_data = tree.export_graphviz(clf, out_file=None, feature_names=iris.feature_names,  \r\n",
        "                     class_names=iris.target_names,  \r\n",
        "                     filled=True, rounded=True,  \r\n",
        "                     special_characters=True)  \r\n",
        "graph = graphviz.Source(dot_data)  \r\n",
        "graph "
      ],
      "execution_count": 4,
      "outputs": [
        {
          "output_type": "error",
          "ename": "NameError",
          "evalue": "ignored",
          "traceback": [
            "\u001b[0;31m---------------------------------------------------------------------------\u001b[0m",
            "\u001b[0;31mNameError\u001b[0m                                 Traceback (most recent call last)",
            "\u001b[0;32m<ipython-input-4-e66f12a555be>\u001b[0m in \u001b[0;36m<module>\u001b[0;34m()\u001b[0m\n\u001b[1;32m      5\u001b[0m \u001b[0mgraph\u001b[0m \u001b[0;34m=\u001b[0m \u001b[0mgraphviz\u001b[0m\u001b[0;34m.\u001b[0m\u001b[0mSource\u001b[0m\u001b[0;34m(\u001b[0m\u001b[0mdot_data\u001b[0m\u001b[0;34m)\u001b[0m\u001b[0;34m\u001b[0m\u001b[0;34m\u001b[0m\u001b[0m\n\u001b[1;32m      6\u001b[0m \u001b[0mgraph\u001b[0m\u001b[0;34m.\u001b[0m\u001b[0mrender\u001b[0m\u001b[0;34m(\u001b[0m\u001b[0;34m\"iris\"\u001b[0m\u001b[0;34m)\u001b[0m\u001b[0;34m\u001b[0m\u001b[0;34m\u001b[0m\u001b[0m\n\u001b[0;32m----> 7\u001b[0;31m dot_data = tree.export_graphviz(clf, out_file=None, feature_names=iris.feature_names,  \n\u001b[0m\u001b[1;32m      8\u001b[0m                      \u001b[0mclass_names\u001b[0m\u001b[0;34m=\u001b[0m\u001b[0miris\u001b[0m\u001b[0;34m.\u001b[0m\u001b[0mtarget_names\u001b[0m\u001b[0;34m,\u001b[0m\u001b[0;34m\u001b[0m\u001b[0;34m\u001b[0m\u001b[0m\n\u001b[1;32m      9\u001b[0m                      \u001b[0mfilled\u001b[0m\u001b[0;34m=\u001b[0m\u001b[0;32mTrue\u001b[0m\u001b[0;34m,\u001b[0m \u001b[0mrounded\u001b[0m\u001b[0;34m=\u001b[0m\u001b[0;32mTrue\u001b[0m\u001b[0;34m,\u001b[0m\u001b[0;34m\u001b[0m\u001b[0;34m\u001b[0m\u001b[0m\n",
            "\u001b[0;31mNameError\u001b[0m: name 'iris' is not defined"
          ]
        }
      ]
    },
    {
      "cell_type": "code",
      "metadata": {
        "colab": {
          "base_uri": "https://localhost:8080/"
        },
        "id": "Wjj7djK61PCS",
        "outputId": "ff2d96f9-fc3e-488a-dda8-dc844fbedc8b"
      },
      "source": [
        "!pip install neuralnets"
      ],
      "execution_count": 14,
      "outputs": [
        {
          "output_type": "stream",
          "text": [
            "Collecting neuralnets\n",
            "\u001b[?25l  Downloading https://files.pythonhosted.org/packages/74/82/451bf60b79d630a13100327562b7af8e8cce4e7856deef2f66f805fd92e6/neuralnets-1.1.6.3-py3-none-any.whl (56kB)\n",
            "\u001b[K     |████████████████████████████████| 61kB 2.9MB/s \n",
            "\u001b[?25hRequirement already satisfied: tifffile in /usr/local/lib/python3.6/dist-packages (from neuralnets) (2020.9.3)\n",
            "Requirement already satisfied: numpy in /usr/local/lib/python3.6/dist-packages (from neuralnets) (1.19.5)\n",
            "Collecting progress\n",
            "  Downloading https://files.pythonhosted.org/packages/38/ef/2e887b3d2b248916fc2121889ce68af8a16aaddbe82f9ae6533c24ff0d2b/progress-1.5.tar.gz\n",
            "Requirement already satisfied: scikit-image in /usr/local/lib/python3.6/dist-packages (from neuralnets) (0.16.2)\n",
            "Requirement already satisfied: six in /usr/local/lib/python3.6/dist-packages (from neuralnets) (1.15.0)\n",
            "Requirement already satisfied: sklearn in /usr/local/lib/python3.6/dist-packages (from neuralnets) (0.0)\n",
            "Requirement already satisfied: tensorboard in /usr/local/lib/python3.6/dist-packages (from neuralnets) (2.4.0)\n",
            "Requirement already satisfied: torch in /usr/local/lib/python3.6/dist-packages (from neuralnets) (1.7.0+cu101)\n",
            "Requirement already satisfied: torchvision in /usr/local/lib/python3.6/dist-packages (from neuralnets) (0.8.1+cu101)\n",
            "Requirement already satisfied: h5py in /usr/local/lib/python3.6/dist-packages (from neuralnets) (2.10.0)\n",
            "Requirement already satisfied: opencv-python in /usr/local/lib/python3.6/dist-packages (from neuralnets) (4.1.2.30)\n",
            "Requirement already satisfied: future in /usr/local/lib/python3.6/dist-packages (from neuralnets) (0.16.0)\n",
            "Requirement already satisfied: scipy>=0.19.0 in /usr/local/lib/python3.6/dist-packages (from scikit-image->neuralnets) (1.4.1)\n",
            "Requirement already satisfied: pillow>=4.3.0 in /usr/local/lib/python3.6/dist-packages (from scikit-image->neuralnets) (7.0.0)\n",
            "Requirement already satisfied: matplotlib!=3.0.0,>=2.0.0 in /usr/local/lib/python3.6/dist-packages (from scikit-image->neuralnets) (3.2.2)\n",
            "Requirement already satisfied: PyWavelets>=0.4.0 in /usr/local/lib/python3.6/dist-packages (from scikit-image->neuralnets) (1.1.1)\n",
            "Requirement already satisfied: networkx>=2.0 in /usr/local/lib/python3.6/dist-packages (from scikit-image->neuralnets) (2.5)\n",
            "Requirement already satisfied: imageio>=2.3.0 in /usr/local/lib/python3.6/dist-packages (from scikit-image->neuralnets) (2.4.1)\n",
            "Requirement already satisfied: scikit-learn in /usr/local/lib/python3.6/dist-packages (from sklearn->neuralnets) (0.22.2.post1)\n",
            "Requirement already satisfied: markdown>=2.6.8 in /usr/local/lib/python3.6/dist-packages (from tensorboard->neuralnets) (3.3.3)\n",
            "Requirement already satisfied: tensorboard-plugin-wit>=1.6.0 in /usr/local/lib/python3.6/dist-packages (from tensorboard->neuralnets) (1.7.0)\n",
            "Requirement already satisfied: protobuf>=3.6.0 in /usr/local/lib/python3.6/dist-packages (from tensorboard->neuralnets) (3.12.4)\n",
            "Requirement already satisfied: grpcio>=1.24.3 in /usr/local/lib/python3.6/dist-packages (from tensorboard->neuralnets) (1.32.0)\n",
            "Requirement already satisfied: wheel>=0.26; python_version >= \"3\" in /usr/local/lib/python3.6/dist-packages (from tensorboard->neuralnets) (0.36.2)\n",
            "Requirement already satisfied: absl-py>=0.4 in /usr/local/lib/python3.6/dist-packages (from tensorboard->neuralnets) (0.10.0)\n",
            "Requirement already satisfied: werkzeug>=0.11.15 in /usr/local/lib/python3.6/dist-packages (from tensorboard->neuralnets) (1.0.1)\n",
            "Requirement already satisfied: google-auth<2,>=1.6.3 in /usr/local/lib/python3.6/dist-packages (from tensorboard->neuralnets) (1.17.2)\n",
            "Requirement already satisfied: google-auth-oauthlib<0.5,>=0.4.1 in /usr/local/lib/python3.6/dist-packages (from tensorboard->neuralnets) (0.4.2)\n",
            "Requirement already satisfied: requests<3,>=2.21.0 in /usr/local/lib/python3.6/dist-packages (from tensorboard->neuralnets) (2.23.0)\n",
            "Requirement already satisfied: setuptools>=41.0.0 in /usr/local/lib/python3.6/dist-packages (from tensorboard->neuralnets) (51.1.1)\n",
            "Requirement already satisfied: dataclasses in /usr/local/lib/python3.6/dist-packages (from torch->neuralnets) (0.8)\n",
            "Requirement already satisfied: typing-extensions in /usr/local/lib/python3.6/dist-packages (from torch->neuralnets) (3.7.4.3)\n",
            "Requirement already satisfied: kiwisolver>=1.0.1 in /usr/local/lib/python3.6/dist-packages (from matplotlib!=3.0.0,>=2.0.0->scikit-image->neuralnets) (1.3.1)\n",
            "Requirement already satisfied: cycler>=0.10 in /usr/local/lib/python3.6/dist-packages (from matplotlib!=3.0.0,>=2.0.0->scikit-image->neuralnets) (0.10.0)\n",
            "Requirement already satisfied: pyparsing!=2.0.4,!=2.1.2,!=2.1.6,>=2.0.1 in /usr/local/lib/python3.6/dist-packages (from matplotlib!=3.0.0,>=2.0.0->scikit-image->neuralnets) (2.4.7)\n",
            "Requirement already satisfied: python-dateutil>=2.1 in /usr/local/lib/python3.6/dist-packages (from matplotlib!=3.0.0,>=2.0.0->scikit-image->neuralnets) (2.8.1)\n",
            "Requirement already satisfied: decorator>=4.3.0 in /usr/local/lib/python3.6/dist-packages (from networkx>=2.0->scikit-image->neuralnets) (4.4.2)\n",
            "Requirement already satisfied: joblib>=0.11 in /usr/local/lib/python3.6/dist-packages (from scikit-learn->sklearn->neuralnets) (1.0.0)\n",
            "Requirement already satisfied: importlib-metadata; python_version < \"3.8\" in /usr/local/lib/python3.6/dist-packages (from markdown>=2.6.8->tensorboard->neuralnets) (3.3.0)\n",
            "Requirement already satisfied: pyasn1-modules>=0.2.1 in /usr/local/lib/python3.6/dist-packages (from google-auth<2,>=1.6.3->tensorboard->neuralnets) (0.2.8)\n",
            "Requirement already satisfied: cachetools<5.0,>=2.0.0 in /usr/local/lib/python3.6/dist-packages (from google-auth<2,>=1.6.3->tensorboard->neuralnets) (4.2.0)\n",
            "Requirement already satisfied: rsa<5,>=3.1.4; python_version >= \"3\" in /usr/local/lib/python3.6/dist-packages (from google-auth<2,>=1.6.3->tensorboard->neuralnets) (4.6)\n",
            "Requirement already satisfied: requests-oauthlib>=0.7.0 in /usr/local/lib/python3.6/dist-packages (from google-auth-oauthlib<0.5,>=0.4.1->tensorboard->neuralnets) (1.3.0)\n",
            "Requirement already satisfied: idna<3,>=2.5 in /usr/local/lib/python3.6/dist-packages (from requests<3,>=2.21.0->tensorboard->neuralnets) (2.10)\n",
            "Requirement already satisfied: urllib3!=1.25.0,!=1.25.1,<1.26,>=1.21.1 in /usr/local/lib/python3.6/dist-packages (from requests<3,>=2.21.0->tensorboard->neuralnets) (1.24.3)\n",
            "Requirement already satisfied: chardet<4,>=3.0.2 in /usr/local/lib/python3.6/dist-packages (from requests<3,>=2.21.0->tensorboard->neuralnets) (3.0.4)\n",
            "Requirement already satisfied: certifi>=2017.4.17 in /usr/local/lib/python3.6/dist-packages (from requests<3,>=2.21.0->tensorboard->neuralnets) (2020.12.5)\n",
            "Requirement already satisfied: zipp>=0.5 in /usr/local/lib/python3.6/dist-packages (from importlib-metadata; python_version < \"3.8\"->markdown>=2.6.8->tensorboard->neuralnets) (3.4.0)\n",
            "Requirement already satisfied: pyasn1<0.5.0,>=0.4.6 in /usr/local/lib/python3.6/dist-packages (from pyasn1-modules>=0.2.1->google-auth<2,>=1.6.3->tensorboard->neuralnets) (0.4.8)\n",
            "Requirement already satisfied: oauthlib>=3.0.0 in /usr/local/lib/python3.6/dist-packages (from requests-oauthlib>=0.7.0->google-auth-oauthlib<0.5,>=0.4.1->tensorboard->neuralnets) (3.1.0)\n",
            "Building wheels for collected packages: progress\n",
            "  Building wheel for progress (setup.py) ... \u001b[?25l\u001b[?25hdone\n",
            "  Created wheel for progress: filename=progress-1.5-cp36-none-any.whl size=8075 sha256=0896bd86eb446409721d5d3ce29d670daf69b93e3b5ea510a80523c36abce93a\n",
            "  Stored in directory: /root/.cache/pip/wheels/6c/c8/80/32a294e3041f006c661838c05a411c7b7ffc60ff939d14e116\n",
            "Successfully built progress\n",
            "Installing collected packages: progress, neuralnets\n",
            "Successfully installed neuralnets-1.1.6.3 progress-1.5\n"
          ],
          "name": "stdout"
        }
      ]
    },
    {
      "cell_type": "code",
      "metadata": {
        "colab": {
          "base_uri": "https://localhost:8080/"
        },
        "id": "1IdXscYIAb_C",
        "outputId": "9aebcd1e-afc2-4606-e061-ee9b07d341d5"
      },
      "source": [
        "from tensorflow.keras.datasets import mnist\r\n",
        "import tensorflow as tf\r\n",
        "import numpy as np\r\n",
        "(x_train, y_train), (x_test, y_test) = mnist.load_data()\r\n",
        "def get_batch(x_data, y_data, batch_size):\r\n",
        "    idxs = np.random.randint(0, len(y_data), batch_size)\r\n",
        "    return x_data[idxs,:,:], y_data[idxs]\r\n",
        "# Python optimisation variables\r\n",
        "epochs = 10\r\n",
        "batch_size = 100\r\n",
        "\r\n",
        "# normalize the input images by dividing by 255.0\r\n",
        "x_train = x_train / 255.0\r\n",
        "x_test = x_test / 255.0\r\n",
        "# convert x_test to tensor to pass through model (train data will be converted to\r\n",
        "# tensors on the fly)\r\n",
        "x_test = tf.Variable(x_test)\r\n",
        "# now declare the weights connecting the input to the hidden layer\r\n",
        "W1 = tf.Variable(tf.random.normal([784, 300], stddev=0.03), name='W1')\r\n",
        "b1 = tf.Variable(tf.random.normal([300]), name='b1')\r\n",
        "# and the weights connecting the hidden layer to the output layer\r\n",
        "W2 = tf.Variable(tf.random.normal([300, 10], stddev=0.03), name='W2')\r\n",
        "b2 = tf.Variable(tf.random.normal([10]), name='b2')\r\n",
        "def nn_model(x_input, W1, b1, W2, b2):\r\n",
        "    # flatten the input image from 28 x 28 to 784\r\n",
        "    x_input = tf.reshape(x_input, (x_input.shape[0], -1))\r\n",
        "    x = tf.add(tf.matmul(tf.cast(x_input, tf.float32), W1), b1)\r\n",
        "    x = tf.nn.relu(x)\r\n",
        "    logits = tf.add(tf.matmul(x, W2), b2)\r\n",
        "    return logits\r\n",
        "def loss_fn(logits, labels):\r\n",
        "    cross_entropy = tf.reduce_mean(tf.nn.softmax_cross_entropy_with_logits(labels=labels,\r\n",
        "                                                                              logits=logits))\r\n",
        "    return cross_entropy\r\n",
        "# setup the optimizer\r\n",
        "optimizer = tf.keras.optimizers.Adam()\r\n",
        "total_batch = int(len(y_train) / batch_size)\r\n",
        "for epoch in range(epochs):\r\n",
        "    avg_loss = 0\r\n",
        "    for i in range(total_batch):\r\n",
        "        batch_x, batch_y = get_batch(x_train, y_train, batch_size=batch_size)\r\n",
        "        # create tensors\r\n",
        "        batch_x = tf.Variable(batch_x)\r\n",
        "        batch_y = tf.Variable(batch_y)\r\n",
        "        # create a one hot vector\r\n",
        "        batch_y = tf.one_hot(batch_y, 10)\r\n",
        "        with tf.GradientTape() as tape:\r\n",
        "            logits = nn_model(batch_x, W1, b1, W2, b2)\r\n",
        "            loss = loss_fn(logits, batch_y)\r\n",
        "        gradients = tape.gradient(loss, [W1, b1, W2, b2])\r\n",
        "        optimizer.apply_gradients(zip(gradients, [W1, b1, W2, b2]))\r\n",
        "        avg_loss += loss / total_batch\r\n",
        "    test_logits = nn_model(x_test, W1, b1, W2, b2)\r\n",
        "    max_idxs = tf.argmax(test_logits, axis=1)\r\n",
        "    test_acc = np.sum(max_idxs.numpy() == y_test) / len(y_test)\r\n",
        "    print(f\"Epoch: {epoch + 1}, loss={avg_loss:.3f}, test set      accuracy={test_acc*100:.3f}%\")\r\n",
        "\r\n",
        "print(\"\\nTraining complete!\")"
      ],
      "execution_count": 17,
      "outputs": [
        {
          "output_type": "stream",
          "text": [
            "Epoch: 1, loss=0.391, test set      accuracy=94.050%\n",
            "Epoch: 2, loss=0.161, test set      accuracy=95.580%\n",
            "Epoch: 3, loss=0.111, test set      accuracy=96.750%\n",
            "Epoch: 4, loss=0.079, test set      accuracy=97.090%\n",
            "Epoch: 5, loss=0.062, test set      accuracy=97.440%\n",
            "Epoch: 6, loss=0.046, test set      accuracy=97.620%\n",
            "Epoch: 7, loss=0.038, test set      accuracy=97.660%\n",
            "Epoch: 8, loss=0.028, test set      accuracy=97.850%\n",
            "Epoch: 9, loss=0.025, test set      accuracy=97.990%\n",
            "Epoch: 10, loss=0.019, test set      accuracy=97.980%\n",
            "\n",
            "Training complete!\n"
          ],
          "name": "stdout"
        }
      ]
    },
    {
      "cell_type": "code",
      "metadata": {
        "id": "GR2ThX-YB2o-"
      },
      "source": [
        "from tensorflow.keras.datasets import mnist\r\n",
        "import tensorflow as tf\r\n",
        "import numpy as np\r\n",
        "(x_train, y_train), (x_test, y_test) = mnist.load_data()\r\n",
        "\r\n",
        "def get_batch(x_data, y_data, batch_size):\r\n",
        "    idxs = np.random.randint(0, len(y_data), batch_size)\r\n",
        "    return x_data[idxs,:,:], y_data[idxs]\r\n",
        "# Python optimisation variables\r\n",
        "epochs = 10\r\n",
        "batch_size = 100\r\n",
        "\r\n",
        "# normalize the input images by dividing by 255.0\r\n",
        "x_train = x_train / 255.0\r\n",
        "x_test = x_test / 255.0\r\n",
        "# convert x_test to tensor to pass through model (train data will be converted to\r\n",
        "# tensors on the fly)\r\n",
        "x_test = tf.Variable(x_test)\r\n",
        "# now declare the weights connecting the input to the hidden layer\r\n",
        "W1 = tf.Variable(tf.random.normal([784, 300], stddev=0.03), name='W1')\r\n",
        "b1 = tf.Variable(tf.random.normal([300]), name='b1')\r\n",
        "# and the weights connecting the hidden layer to the output layer\r\n",
        "W2 = tf.Variable(tf.random.normal([300, 10], stddev=0.03), name='W2')\r\n",
        "b2 = tf.Variable(tf.random.normal([10]), name='b2')\r\n",
        "def nn_model(x_input, W1, b1, W2, b2):\r\n",
        "    # flatten the input image from 28 x 28 to 784\r\n",
        "    x_input = tf.reshape(x_input, (x_input.shape[0], -1))\r\n",
        "    x = tf.add(tf.matmul(tf.cast(x_input, tf.float32), W1), b1)\r\n",
        "    x = tf.nn.relu(x)\r\n",
        "    logits = tf.add(tf.matmul(x, W2), b2)\r\n",
        "    return logits\r\n",
        "def loss_fn(logits, labels):\r\n",
        "    cross_entropy = tf.reduce_mean(tf.nn.softmax_cross_entropy_with_logits(labels=labels,\r\n",
        "                                                                              logits=logits))\r\n",
        "    return cross_entropy\r\n",
        "# setup the optimizer\r\n",
        "optimizer = tf.keras.optimizers.Adam()\r\n",
        "total_batch = int(len(y_train) / batch_size)\r\n",
        "for epoch in range(epochs):\r\n",
        "    avg_loss = 0\r\n",
        "    for i in range(total_batch):\r\n",
        "        batch_x, batch_y = get_batch(x_train, y_train, batch_size=batch_size)\r\n",
        "        # create tensors\r\n",
        "        batch_x = tf.Variable(batch_x)\r\n",
        "        batch_y = tf.Variable(batch_y)\r\n",
        "        # create a one hot vector\r\n",
        "        batch_y = tf.one_hot(batch_y, 10)\r\n",
        "        with tf.GradientTape() as tape:\r\n",
        "            logits = nn_model(batch_x, W1, b1, W2, b2)\r\n",
        "            loss = loss_fn(logits, batch_y)\r\n",
        "        gradients = tape.gradient(loss, [W1, b1, W2, b2])\r\n",
        "        optimizer.apply_gradients(zip(gradients, [W1, b1, W2, b2]))\r\n",
        "        avg_loss += loss / total_batch\r\n",
        "    test_logits = nn_model(x_test, W1, b1, W2, b2)\r\n",
        "    max_idxs = tf.argmax(test_logits, axis=1)\r\n",
        "    test_acc = np.sum(max_idxs.numpy() == y_test) / len(y_test)\r\n",
        "    print(f\"Epoch: {epoch + 1}, loss={avg_loss:.3f}, test set      accuracy={test_acc*100:.3f}%\")\r\n",
        "\r\n",
        "print(\"\\nTraining complete!\")"
      ],
      "execution_count": null,
      "outputs": []
    }
  ]
}